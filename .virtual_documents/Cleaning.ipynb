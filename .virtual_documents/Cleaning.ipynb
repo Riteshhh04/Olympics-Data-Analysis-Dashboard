#Load Dataset and Inspect

# Import required libraries
import pandas as pd

# Load dataset with correct encoding
df = pd.read_csv("Summer-Olympic-medals-1976-to-2008.csv", encoding="ISO-8859-1")

# Display the first few rows
df.head()



#Understand the Structure

# Check the shape (rows, columns)
print("Dataset shape:", df.shape)

# Check column names and data types
df.info()

# View column names
print("Column names:", df.columns.tolist())


#Check for Missing Values

# Check total missing values in each column
print("Missing values per column:\n", df.isnull().sum())


# Check duplicate rows
print("Duplicate rows:", df.duplicated().sum())



# Drop duplicates if any
df = df.drop_duplicates()



# Check duplicate rows
print("Duplicate rows:", df.duplicated().sum())



#Standardize Column Names

# Make column names lowercase and replace spaces with underscores
df.columns = df.columns.str.strip().str.lower().str.replace(" ", "_")
print("Standardized column names:\n", df.columns.tolist())



#Clean Text Columns (Remove Extra Spaces, Title Case)

# Clean all object (text) columns
for col in df.select_dtypes(include='object').columns:
    df[col] = df[col].str.strip().str.title()



#Check for Invalid Entries or Typos in Categorical Columns

# View unique values in selected columns
cat_cols = ['gender', 'medal', 'event_gender']

for col in cat_cols:
    print(f"\nUnique values in '{col}':", df[col].unique())



# Check for missing values in 'year' column
print("Missing values in 'year':", df['year'].isnull().sum())


#Drop rows where 'year' is missing (recommended if few rows)
df = df.dropna(subset=['year'])


# Then safely convert to integer
df['year'] = df['year'].astype(int)


# Confirm conversion
print(df.dtypes['year'])


df.head()








#Useful for trend analysis across decades.
df['decade'] = (df['year'] // 10) * 10



df.head()


#Useful for continent-wise comparison.

continent_map = {
    'Soviet Union': 'Europe',
    'United States': 'North America',
    'Italy': 'Europe',
    'Sweden': 'Europe',
    'East Germany': 'Europe',
    'Australia': 'Oceania',
    'Canada': 'North America',
    'West Germany': 'Europe',
    'Netherlands': 'Europe',
    'United Kingdom': 'Europe',
    'Hungary': 'Europe',
    'Japan': 'Asia',
    'Cuba': 'North America',
    'Poland': 'Europe',
    'Bulgaria': 'Europe',
    'New Zealand': 'Oceania',
    'Belgium': 'Europe',
    'Mexico': 'North America',
    'Jamaica': 'North America',
    'Finland': 'Europe',
    'Romania': 'Europe',
    'Portugal': 'Europe',
    'France': 'Europe',
    'Brazil': 'South America',
    'Czechoslovakia': 'Europe',
    'Trinidad And Tobago': 'North America',
    'Yugoslavia': 'Europe',
    'Venezuela': 'South America',
    'Puerto Rico': 'North America',
    'Korea, North': 'Asia',
    'Bermuda': 'North America',
    'Thailand': 'Asia',
    'Spain': 'Europe',
    'Denmark': 'Europe',
    'Switzerland': 'Europe'
}

# Title-case country names to match map keys
df['country'] = df['country'].str.strip().str.title()

# Map to continent
df['continent'] = df['country'].map(continent_map)

# Check unmapped values (if any)
print("Unmapped countries:\n", df[df['continent'].isnull()]['country'].unique())


continent_map.update({
    # North America
    'Puerto Rico': 'North America',
    'Bermuda': 'North America',
    'Bahamas': 'North America',
    'Dominican Republic': 'North America',
    'Virgin Islands': 'North America',
    'Barbados': 'North America',
    'Trinidad And Tobago': 'North America',
    'Costa Rica': 'North America',
    'Panama': 'North America',
    
    # South America
    'Chile': 'South America',
    'Argentina': 'South America',
    'Colombia': 'South America',
    'Peru': 'South America',
    'Uruguay': 'South America',
    'Paraguay': 'South America',
    'Ecuador': 'South America',
    'Guyana': 'South America',
    'Venezuela': 'South America',

    # Europe
    'Germany': 'Europe',
    'Norway': 'Europe',
    'Austria': 'Europe',
    'Ireland': 'Europe',
    'Greece': 'Europe',
    'Netherlands Antilles': 'Europe',  # technically Caribbean, used as European territory
    'Lithuania': 'Europe',
    'Croatia': 'Europe',
    'Latvia': 'Europe',
    'Estonia': 'Europe',
    'Slovenia': 'Europe',
    'Russia': 'Europe',
    'Ukraine': 'Europe',
    'Belarus': 'Europe',
    'Czech Republic': 'Europe',
    'Slovakia': 'Europe',
    'Moldova': 'Europe',
    'Georgia': 'Europe',
    'Serbia': 'Europe',
    'Armenia': 'Europe',
    'Azerbaijan': 'Europe',
    'Macedonia': 'Europe',
    'Unified Team': 'Europe',  # USSR successor

    # Asia
    'Pakistan': 'Asia',
    'India': 'Asia',
    'Iran': 'Asia',
    'Mongolia': 'Asia',
    'China': 'Asia',
    'Thailand': 'Asia',
    'Korea, North': 'Asia',
    'Korea, South': 'Asia',
    'Japan': 'Asia',
    'Turkey': 'Asia',
    'Taiwan': 'Asia',
    'Malaysia': 'Asia',
    'Kazakhstan': 'Asia',
    'Uzbekistan': 'Asia',
    'Tajikistan': 'Asia',
    'Kyrgyzstan': 'Asia',
    'Vietnam': 'Asia',
    'Saudi Arabia': 'Asia',
    'United Arab Emirates': 'Asia',
    'Sri Lanka': 'Asia',
    'Qatar': 'Asia',
    'Singapore': 'Asia',
    'Israel': 'Asia',
    'Afghanistan': 'Asia',
    'Hong Kong': 'Asia',

    # Africa
    'Ethiopia': 'Africa',
    'Tanzania': 'Africa',
    'Uganda': 'Africa',
    'Nigeria': 'Africa',
    'Kenya': 'Africa',
    'Morocco': 'Africa',
    "Cote D'Ivoire": 'Africa',
    'Algeria': 'Africa',
    'Cameroon': 'Africa',
    'Zambia': 'Africa',
    'Egypt': 'Africa',
    'Djibouti': 'Africa',
    'Senegal': 'Africa',
    'Zimbabwe': 'Africa',
    'South Africa': 'Africa',
    'Namibia': 'Africa',
    'Mozambique': 'Africa',
    'Tunisia': 'Africa',
    'Ghana': 'Africa',
    'Burundi': 'Africa',
    'Eritrea': 'Africa',
    'Sudan': 'Africa',
    'Mauritius': 'Africa',
    'Togo': 'Africa',

    # Oceania
    'Tonga': 'Oceania',

    # Unknown / Mixed / Other
    'Independent Olympic Participants (1992)': 'Other',
})



# Clean trailing * from country names and reapply mapping
df['country'] = df['country'].str.replace(r'\*$', '', regex=True).str.strip()
df['continent'] = df['country'].map(continent_map)


# Check if anything is still unmapped
unmapped = df[df['continent'].isnull()]['country'].unique()
print("Still unmapped:", unmapped)


# Update mapping with the final few countries
continent_map.update({
    'Lebanon': 'Asia',
    'Syria': 'Asia',
    'Indonesia': 'Asia',
    'Philippines': 'Asia',
    'Kuwait': 'Asia',
    'Iceland': 'Europe',
    'Suriname': 'South America',
})


# Clean again and re-map
df['country'] = df['country'].str.replace(r'\*$', '', regex=True).str.strip()
df['continent'] = df['country'].map(continent_map)


# Final check
unmapped = df[df['continent'].isnull()]['country'].unique()
print("🎉 All countries mapped! Remaining unmapped:", unmapped)


df.head()


#Mark athletes who appear more than once (multi-time medalists)

df['repeat_medalist'] = df.duplicated(subset='athlete', keep=False)
df['repeat_medalist'] = df['repeat_medalist'].map({True: 'Yes', False: 'No'})



df.head()


#Group similar sports together

sport_group_map = {
    # Track & Field
    'Athletics': 'Track & Field',
    'Cycling': 'Track & Field',
    'Modern Pentathlon': 'Track & Field',
    'Triathlon': 'Track & Field',

    # Combat Sports
    'Boxing': 'Combat Sports',
    'Judo': 'Combat Sports',
    'Taekwondo': 'Combat Sports',
    'Wrestling': 'Combat Sports',

    # Ball Sports
    'Basketball': 'Ball Sports',
    'Football': 'Ball Sports',
    'Handball': 'Ball Sports',
    'Hockey': 'Ball Sports',
    'Volleyball': 'Ball Sports',
    'Baseball': 'Ball Sports',
    'Softball': 'Ball Sports',

    # Water Sports
    'Aquatics': 'Water Sports',
    'Rowing': 'Water Sports',
    'Sailing': 'Water Sports',
    'Canoe / Kayak': 'Water Sports',

    # Other (catch-all)
    'Gymnastics': 'Other Sports',
    'Weightlifting': 'Other Sports',
    'Fencing': 'Other Sports',
    'Equestrian': 'Other Sports',
    'Shooting': 'Other Sports',
    'Archery': 'Other Sports',
    'Table Tennis': 'Other Sports',
    'Tennis': 'Other Sports',
    'Badminton': 'Other Sports',
}



# Apply simplified sport group mapping
df['sport_group'] = df['sport'].map(sport_group_map)

# See any missing mappings
print("Still unmapped sports:", df[df['sport_group'].isnull()]['sport'].unique())



# Save enhanced dataset
df.to_csv("Cleaned_Summer_Olympic_Medals.csv", index=False)
print("✅ Final enhanced file saved as 'Cleaned_Summer_Olympic_Medals.csv'")







